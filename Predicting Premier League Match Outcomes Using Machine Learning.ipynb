{
 "cells": [
  {
   "cell_type": "code",
   "execution_count": 2,
   "id": "ceeb2685",
   "metadata": {
    "scrolled": false
   },
   "outputs": [
    {
     "name": "stderr",
     "output_type": "stream",
     "text": [
      "C:\\Users\\HP\\anaconda3\\lib\\site-packages\\xgboost\\core.py:158: UserWarning: [12:02:07] WARNING: C:\\buildkite-agent\\builds\\buildkite-windows-cpu-autoscaling-group-i-0015a694724fa8361-1\\xgboost\\xgboost-ci-windows\\src\\learner.cc:740: \n",
      "Parameters: { \"use_label_encoder\" } are not used.\n",
      "\n",
      "  warnings.warn(smsg, UserWarning)\n"
     ]
    }
   ],
   "source": [
    "import pandas as pd\n",
    "from sklearn.model_selection import train_test_split\n",
    "from xgboost import XGBClassifier\n",
    "from sklearn.metrics import classification_report, accuracy_score\n",
    "import numpy as np\n",
    "import matplotlib.pyplot as plt\n",
    "\n",
    "# Load the datasets\n",
    "season_data = pd.read_csv('seasonstats.csv')  \n",
    "matches_data = pd.read_csv('matches.csv')  \n",
    "\n",
    "\n",
    "# Option 1: Drop rows with missing values\n",
    "season_data_cleaned = season_data.dropna()\n",
    "matches_data_cleaned = matches_data.dropna()\n",
    "\n",
    "# Merging the datasets on 'Season'\n",
    "merged_data = pd.merge(matches_data_cleaned, season_data_cleaned, on='Season')\n",
    "\n",
    "# Encode the target variable\n",
    "def determine_result(row):\n",
    "    if row['Home Goals'] > row['Away Goals']:\n",
    "        return 'Win'\n",
    "    elif row['Home Goals'] < row['Away Goals']:\n",
    "        return 'Lose'\n",
    "    else:\n",
    "        return 'Draw'\n",
    "\n",
    "merged_data['Result'] = merged_data.apply(determine_result, axis=1)\n",
    "\n",
    "# Selecting features for the model\n",
    "features = ['xG', 'xG.1', 'Attendance', 'GF', 'GA']  # Include relevant features from the datasets\n",
    "X = merged_data[features]\n",
    "y = merged_data['Result']\n",
    "\n",
    "# Encoding categorical variables\n",
    "y = y.map({'Win': 0, 'Lose': 1, 'Draw': 2})  # Map results to integers\n",
    "\n",
    "# Split the data into training and test sets\n",
    "X_train, X_test, y_train, y_test = train_test_split(X, y, test_size=0.2, random_state=42)\n",
    "\n",
    "# Train the XGBoost model\n",
    "xgb_model = XGBClassifier(use_label_encoder=False, eval_metric='mlogloss', random_state=42)\n",
    "xgb_model.fit(X_train, y_train)\n",
    "\n",
    "# Evaluate the model\n",
    "y_pred = xgb_model.predict(X_test)\n",
    "\n",
    "# Function to predict the outcome based on two teams\n",
    "def predict_match_result(home_team, away_team):\n",
    "    match_data = merged_data[(merged_data['Home'] == home_team) & (merged_data['Away'] == away_team)]\n",
    "    if match_data.empty:\n",
    "        return \"Match data not available.\"\n",
    "\n",
    "    # Prepare input for the model\n",
    "    input_data = match_data[features].mean().values.reshape(1, -1)\n",
    "    probabilities = xgb_model.predict_proba(input_data)\n",
    "\n",
    "    # Create a result mapping\n",
    "    result_mapping = {0: 'Win', 1: 'Lose', 2: 'Draw'}\n",
    "    \n",
    "    # Calculate probabilities for both teams\n",
    "    home_win_prob = probabilities[0][0]  # Home team winning\n",
    "    away_win_prob = probabilities[0][1]   # Away team winning\n",
    "    draw_prob = probabilities[0][2]        # Draw\n",
    "\n",
    "    # Visualization\n",
    "    fig, ax = plt.subplots()\n",
    "    bars = ax.bar(['Home Win', 'Away Win', 'Draw'], [home_win_prob, away_win_prob, draw_prob],\n",
    "                   color=['green', 'red', 'blue'])\n",
    "    ax.set_ylim(0, 1)\n",
    "    ax.set_ylabel('Probability')\n",
    "    ax.set_title(f'Predicted Match Outcome: {home_team} vs {away_team}')\n",
    "    \n",
    "    # Adding labels to the bars\n",
    "    for bar in bars:\n",
    "        yval = bar.get_height()\n",
    "        ax.text(bar.get_x() + bar.get_width()/2, yval, f\"{yval:.2f}\", ha='center', va='bottom')\n",
    "\n",
    "    plt.show()\n",
    "    \n",
    "    return {\n",
    "        f'{home_team} Win Probability': home_win_prob,\n",
    "        f'{away_team} Win Probability': away_win_prob,\n",
    "        'Draw Probability': draw_prob,\n",
    "        'Predicted Result': result_mapping[np.argmax(probabilities)]\n",
    "    }\n",
    "\n"
   ]
  },
  {
   "cell_type": "code",
   "execution_count": 7,
   "id": "fafeb174",
   "metadata": {},
   "outputs": [
    {
     "data": {
      "image/png": "[encoded data removed]",
      "text/plain": [
       "<Figure size 432x288 with 1 Axes>"
      ]
     },
     "metadata": {
      "needs_background": "light"
     },
     "output_type": "display_data"
    },
    {
     "name": "stdout",
     "output_type": "stream",
     "text": [
      "{'Southampton Win Probability': 0.017989064, 'Leicester City Win Probability': 0.8792452, 'Draw Probability': 0.1027657, 'Predicted Result': 'Lose', 'Predicted Home Goals': 0.22, 'Predicted Away Goals': 1.63}\n"
     ]
    }
   ],
   "source": [
    "home_team = \"Southampton\"  # Input your team name here\n",
    "away_team = \"Leicester City\"  # Input your opponent team name here\n",
    "result = predict_match_result(home_team, away_team)\n",
    "print(result)"
   ]
  },
  {
   "cell_type": "code",
   "execution_count": null,
   "id": "3d6a96c9",
   "metadata": {},
   "outputs": [],
   "source": []
  }
 ],
 "metadata": {
  "kernelspec": {
   "display_name": "Python 3 (ipykernel)",
   "language": "python",
   "name": "python3"
  },
  "language_info": {
   "codemirror_mode": {
    "name": "ipython",
    "version": 3
   },
   "file_extension": ".py",
   "mimetype": "text/x-python",
   "name": "python",
   "nbconvert_exporter": "python",
   "pygments_lexer": "ipython3",
   "version": "3.9.12"
  }
 },
 "nbformat": 4,
 "nbformat_minor": 5
}
